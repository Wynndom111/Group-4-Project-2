{
 "cells": [
  {
   "cell_type": "code",
   "execution_count": null,
   "metadata": {},
   "outputs": [],
   "source": [
    "import pandas as pd"
   ]
  },
  {
   "cell_type": "code",
   "execution_count": null,
   "metadata": {},
   "outputs": [],
   "source": [
    "state_data_df = pd.read_csv('../data/state_data_df.csv')\n",
    "state_data_df.head()"
   ]
  },
  {
   "cell_type": "code",
   "execution_count": null,
   "metadata": {},
   "outputs": [],
   "source": [
    "state_2008_df = state_data_df.loc[state_data_df['year']==2008]\n",
    "\n",
    "state_2008_df.to_csv(r\"../data/state_2008.csv\", index = True)"
   ]
  },
  {
   "cell_type": "code",
   "execution_count": null,
   "metadata": {},
   "outputs": [],
   "source": [
    "state_2009_df = state_data_df.loc[state_data_df['year']==2009]\n",
    "\n",
    "state_2009_df.to_csv(r\"../data/state_2009.csv\", index = True)"
   ]
  },
  {
   "cell_type": "code",
   "execution_count": null,
   "metadata": {},
   "outputs": [],
   "source": [
    "state_2010_df = state_data_df.loc[state_data_df['year']==2010]\n",
    "\n",
    "state_2010_df.to_csv(r\"../data/state_2010.csv\", index = True)"
   ]
  },
  {
   "cell_type": "code",
   "execution_count": null,
   "metadata": {},
   "outputs": [],
   "source": [
    "state_2011_df = state_data_df.loc[state_data_df['year']==2011]\n",
    "\n",
    "state_2011_df.to_csv(r\"../data/state_2011.csv\", index = True)"
   ]
  },
  {
   "cell_type": "code",
   "execution_count": null,
   "metadata": {},
   "outputs": [],
   "source": [
    "state_2012_df = state_data_df.loc[state_data_df['year']==2012]\n",
    "\n",
    "state_2012_df.to_csv(r\"../data/state_2012.csv\", index = True)"
   ]
  },
  {
   "cell_type": "code",
   "execution_count": null,
   "metadata": {},
   "outputs": [],
   "source": [
    "state_2013_df = state_data_df.loc[state_data_df['year']==2013]\n",
    "\n",
    "state_2013_df.to_csv(r\"../data/state_2013.csv\", index = True)"
   ]
  },
  {
   "cell_type": "code",
   "execution_count": null,
   "metadata": {},
   "outputs": [],
   "source": [
    "state_2014_df = state_data_df.loc[state_data_df['year']==2014]\n",
    "\n",
    "state_2014_df.to_csv(r\"../data/state_2014.csv\", index = True)"
   ]
  },
  {
   "cell_type": "code",
   "execution_count": null,
   "metadata": {},
   "outputs": [],
   "source": [
    "state_2015_df = state_data_df.loc[state_data_df['year']==2015]\n",
    "\n",
    "state_2015_df.to_csv(r\"../data/state_2015.csv\", index = True)"
   ]
  },
  {
   "cell_type": "code",
   "execution_count": null,
   "metadata": {},
   "outputs": [],
   "source": [
    "state_2016_df = state_data_df.loc[state_data_df['year']==2016]\n",
    "\n",
    "state_2016_df.to_csv(r\"../data/state_2016.csv\", index = True)"
   ]
  },
  {
   "cell_type": "code",
   "execution_count": null,
   "metadata": {},
   "outputs": [],
   "source": [
    "state_2017_df = state_data_df.loc[state_data_df['year']==2017]\n",
    "\n",
    "state_2017_df.to_csv(r\"../data/state_2017.csv\", index = True)"
   ]
  },
  {
   "cell_type": "code",
   "execution_count": null,
   "metadata": {},
   "outputs": [],
   "source": [
    "state_2018_df = state_data_df.loc[state_data_df['year']==2018]\n",
    "\n",
    "state_2018_df.to_csv(r\"../data/state_2018.csv\", index = True)"
   ]
  },
  {
   "cell_type": "code",
   "execution_count": null,
   "metadata": {},
   "outputs": [],
   "source": []
  }
 ],
 "metadata": {
  "kernelspec": {
   "display_name": "Python 3",
   "language": "python",
   "name": "python3"
  },
  "language_info": {
   "codemirror_mode": {
    "name": "ipython",
    "version": 3
   },
   "file_extension": ".py",
   "mimetype": "text/x-python",
   "name": "python",
   "nbconvert_exporter": "python",
   "pygments_lexer": "ipython3",
   "version": "3.6.10"
  }
 },
 "nbformat": 4,
 "nbformat_minor": 4
}
