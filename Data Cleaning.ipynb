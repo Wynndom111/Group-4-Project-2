{
 "cells": [
  {
   "cell_type": "markdown",
   "metadata": {},
   "source": [
    "# Import & Clean Data"
   ]
  },
  {
   "cell_type": "code",
   "execution_count": null,
   "metadata": {},
   "outputs": [],
   "source": [
    "import pandas as pd"
   ]
  },
  {
   "cell_type": "code",
   "execution_count": null,
   "metadata": {},
   "outputs": [],
   "source": [
    "# create dictionary of state abbreviations to map later\n",
    "states = {1:'AL',2:'AK',3:'AZ',4:'AR',5:'CA',6:'CO',7:'CT',8:'DE',9:'DC',10:'FL',\n",
    "11:'GA',12:'HI',13:'ID',14:'IL',15:'IN',16:'IA',17:'KS',18:'KY',19:'LA',\n",
    "20:'ME',21:'MD',22:'MA',23:'MI',24:'MN',25:'MS',26:'MO',27:'MT',28:'NE',29:'NV',\n",
    "30:'NH',31:'NJ',32:'NM',33:'NY',34:'NC',35:'ND',36:'OH',37:'OK',38:'OR',39:'PA',\n",
    "41:'SC',42:'SD',43:'TN',44:'TX',45:'UT',47:'VA',48:'WA',49:'WV',50:'WI',51:'WY',\n",
    "99:'Blank'}"
   ]
  },
  {
   "cell_type": "markdown",
   "metadata": {},
   "source": [
    "## 2008"
   ]
  },
  {
   "cell_type": "code",
   "execution_count": null,
   "metadata": {},
   "outputs": [],
   "source": [
    "# import 2008 csv and convert to df\n",
    "data08_csv = \"data/2008.csv\"\n",
    "data08 = pd.read_csv(data08_csv, encoding=\"utf-8\", low_memory=False)"
   ]
  },
  {
   "cell_type": "code",
   "execution_count": null,
   "metadata": {},
   "outputs": [],
   "source": [
    "# pull only desired columns from df\n",
    "data08 = data08[['STATE','COUNTY','FACLNAME','CONFPOP','ADMALE','ADFEML',\n",
    "                   'JUVMALE','JUVFEML','WHITE','BLACK',\n",
    "                   'HISP','AMINDALK','ASIAN','HAWPAC','TWORACE','OTRACE']]"
   ]
  },
  {
   "cell_type": "code",
   "execution_count": null,
   "metadata": {},
   "outputs": [],
   "source": [
    "# add year column to df\n",
    "data08['YEAR'] = '2008'\n",
    "\n",
    "# map state abbreviations to state number provided in data\n",
    "data08['STATE'] = data08['STATE'].map(states)"
   ]
  },
  {
   "cell_type": "code",
   "execution_count": null,
   "metadata": {},
   "outputs": [],
   "source": [
    "# rename columns for consistency\n",
    "data08 = data08.rename(columns = {'STATE' : 'state', 'COUNTY':'county', 'FACLNAME' : 'facility_name', 'CONFPOP' : 'confined_population', \n",
    "                         'ADMALE' : 'adult_male', 'ADFEML' : 'adult_female', 'JUVMALE' : 'juvenile_male',\n",
    "                         'JUVFEML' : 'juvenile_female', 'WHITE' : 'white_population', 'BLACK' : 'black_population', \n",
    "                         'HISP' : 'hispanic_population', 'AMINDALK' : 'native_american_population', 'ASIAN' : 'asian_population',\n",
    "                         'HAWPAC' : 'native_hawaiian_pacific_islander_population',\n",
    "                         'TWORACE': 'two_or_more_race_population', 'OTRACE' : 'other_population', 'YEAR' : 'year'\n",
    "}) \n",
    "data08.head()"
   ]
  },
  {
   "cell_type": "markdown",
   "metadata": {},
   "source": [
    "## 2009"
   ]
  },
  {
   "cell_type": "code",
   "execution_count": null,
   "metadata": {},
   "outputs": [],
   "source": [
    "# import 2009 csv and convert to df\n",
    "data09_csv = \"data/2009.csv\"\n",
    "data09 = pd.read_csv(data09_csv, encoding=\"utf-8\", low_memory=False)"
   ]
  },
  {
   "cell_type": "code",
   "execution_count": null,
   "metadata": {},
   "outputs": [],
   "source": [
    "# pull only desired columns from df\n",
    "data09 = data09[['STATE','COUNTY','FACLNAME','CONFPOP','ADMALE','ADFEML',\n",
    "                   'JUVMALE','JUVFEML','WHITE','BLACK',\n",
    "                   'HISP','AMINDALK','ASIAN','HAWPAC','TWORACE','OTRACE']]"
   ]
  },
  {
   "cell_type": "code",
   "execution_count": null,
   "metadata": {},
   "outputs": [],
   "source": [
    "# add year column to df\n",
    "data09['YEAR'] = '2009'\n",
    "\n",
    "# map state abbreviation to state number provided in data\n",
    "data09['STATE'] = data09['STATE'].map(states)"
   ]
  },
  {
   "cell_type": "code",
   "execution_count": null,
   "metadata": {},
   "outputs": [],
   "source": [
    "# rename columns for consistency\n",
    "data09 = data09.rename(columns = {'STATE' : 'state', 'COUNTY':'county', 'FACLNAME' : 'facility_name', 'CONFPOP' : 'confined_population', \n",
    "                         'ADMALE' : 'adult_male', 'ADFEML' : 'adult_female', 'JUVMALE' : 'juvenile_male',\n",
    "                         'JUVFEML' : 'juvenile_female', 'WHITE' : 'white_population', 'BLACK' : 'black_population', \n",
    "                         'HISP' : 'hispanic_population', 'AMINDALK' : 'native_american_population', 'ASIAN' : 'asian_population',\n",
    "                         'HAWPAC' : 'native_hawaiian_pacific_islander_population',\n",
    "                         'TWORACE': 'two_or_more_race_population', 'OTRACE' : 'other_population', 'YEAR' : 'year'\n",
    "}) \n",
    "data09.head()"
   ]
  },
  {
   "cell_type": "markdown",
   "metadata": {},
   "source": [
    "## 2010"
   ]
  },
  {
   "cell_type": "code",
   "execution_count": null,
   "metadata": {},
   "outputs": [],
   "source": [
    "# imort 2010 csv and convert to df\n",
    "data10_csv = \"data/2010.csv\"\n",
    "data10 = pd.read_csv(data10_csv, encoding=\"utf-8\", low_memory=False)"
   ]
  },
  {
   "cell_type": "code",
   "execution_count": null,
   "metadata": {},
   "outputs": [],
   "source": [
    "# pull only desired columns to df\n",
    "data10 = data10[['state','county','faclname','confpop','adultm','adultf',\n",
    "'juvm','juvf','white','black',\n",
    "'hisp','AIAN','asian','nhopi','tworace','otherrace']]"
   ]
  },
  {
   "cell_type": "code",
   "execution_count": null,
   "metadata": {},
   "outputs": [],
   "source": [
    "# add year column to df\n",
    "data10['YEAR'] = '2010'\n",
    "\n",
    "# map state abbreviations to state number provided in data\n",
    "data10['state'] = data10['state'].map(states)"
   ]
  },
  {
   "cell_type": "code",
   "execution_count": null,
   "metadata": {},
   "outputs": [],
   "source": [
    "# rename columns for consistency\n",
    "data10 = data10.rename(columns = {'faclname' : 'facility_name', 'confpop' : 'confined_population', \n",
    "                         'adultm' : 'adult_male', 'adultf' : 'adult_female', 'juvm' : 'juvenile_male',\n",
    "                         'juvf' : 'juvenile_female', 'white' : 'white_population', 'black' : 'black_population', \n",
    "                         'hisp' : 'hispanic_population', 'AIAN' : 'native_american_population', 'asian' : 'asian_population',\n",
    "                         'nhopi' : 'native_hawaiian_pacific_islander_population',\n",
    "                         'tworace': 'two_or_more_race_population', 'otherrace' : 'other_population', 'YEAR' : 'year'\n",
    "}) \n",
    "data10.head()"
   ]
  },
  {
   "cell_type": "markdown",
   "metadata": {},
   "source": [
    "## 2011"
   ]
  },
  {
   "cell_type": "code",
   "execution_count": null,
   "metadata": {},
   "outputs": [],
   "source": [
    "# import 2011 csv and convert to df\n",
    "data11_csv = \"data/2011.csv\"\n",
    "data11 = pd.read_csv(data11_csv, encoding=\"utf-8\", low_memory=False)"
   ]
  },
  {
   "cell_type": "code",
   "execution_count": null,
   "metadata": {},
   "outputs": [],
   "source": [
    "# pull only desired columns from df\n",
    "data11 = data11[['state','county','faclname','confpop','adultm','adultf',\n",
    "'juvm','juvf','white','black','hisp','AIAN','asian','nhopi','tworace','otherrace']]"
   ]
  },
  {
   "cell_type": "code",
   "execution_count": null,
   "metadata": {},
   "outputs": [],
   "source": [
    "# add year column to df\n",
    "data11['YEAR'] = '2011'\n",
    "\n",
    "# map state abbreviations to state number provided in data\n",
    "data11['state'] = data11['state'].map(states)"
   ]
  },
  {
   "cell_type": "code",
   "execution_count": null,
   "metadata": {},
   "outputs": [],
   "source": [
    "# rename columns for consistency\n",
    "data11 = data11.rename(columns = {'state' : 'state', 'county':'county', 'faclname' : 'facility_name', 'confpop' : 'confined_population', \n",
    "                         'adultm' : 'adult_male', 'adultf' : 'adult_female', 'juvm' : 'juvenile_male',\n",
    "                         'juvf' : 'juvenile_female', 'white' : 'white_population', 'black' : 'black_population', \n",
    "                         'hisp' : 'hispanic_population', 'AIAN' : 'native_american_population', 'asian' : 'asian_population',\n",
    "                         'nhopi' : 'native_hawaiian_pacific_islander_population',\n",
    "                         'tworace': 'two_or_more_race_population', 'otherrace' : 'other_population', 'YEAR' : 'year'\n",
    "})\n",
    "data11.head()"
   ]
  },
  {
   "cell_type": "markdown",
   "metadata": {},
   "source": [
    "## 2012"
   ]
  },
  {
   "cell_type": "code",
   "execution_count": null,
   "metadata": {},
   "outputs": [],
   "source": [
    "# import 2012 csv and convert to df\n",
    "data12_csv = \"data/2012.csv\"\n",
    "data12 = pd.read_csv(data12_csv, encoding=\"utf-8\", low_memory=False)"
   ]
  },
  {
   "cell_type": "code",
   "execution_count": null,
   "metadata": {},
   "outputs": [],
   "source": [
    "# pull only desired columns from df\n",
    "data12 = data12[['state','county','faclname','confpop','adultm','adultf','juvm','juvf','white','black',\n",
    "'hisp','AIAN','asian','nhopi','tworace','otherrace']]"
   ]
  },
  {
   "cell_type": "code",
   "execution_count": null,
   "metadata": {},
   "outputs": [],
   "source": [
    "# add year column to df\n",
    "data12['YEAR'] = '2012'\n",
    "\n",
    "# map state abbreviations to state number provided in data\n",
    "data12['state'] = data12['state'].map(states)"
   ]
  },
  {
   "cell_type": "code",
   "execution_count": null,
   "metadata": {},
   "outputs": [],
   "source": [
    "# rename columns for consistency\n",
    "data12 = data12.rename(columns = {'state' : 'state', 'county':'county', 'faclname' : 'facility_name', 'confpop' : 'confined_population', \n",
    "                         'adultm' : 'adult_male', 'adultf' : 'adult_female', 'juvm' : 'juvenile_male',\n",
    "                         'juvf' : 'juvenile_female', 'white' : 'white_population', 'black' : 'black_population', \n",
    "                         'hisp' : 'hispanic_population', 'AIAN' : 'native_american_population', 'asian' : 'asian_population',\n",
    "                         'nhopi' : 'native_hawaiian_pacific_islander_population',\n",
    "                         'tworace': 'two_or_more_race_population', 'otherrace' : 'other_population', 'YEAR' : 'year'\n",
    "}) \n",
    "data12.head()"
   ]
  },
  {
   "cell_type": "markdown",
   "metadata": {},
   "source": [
    "## 2013"
   ]
  },
  {
   "cell_type": "code",
   "execution_count": null,
   "metadata": {},
   "outputs": [],
   "source": [
    "# import 2013 csv and convert to df\n",
    "data13_csv = \"data/2013.csv\"\n",
    "data13 = pd.read_csv(data13_csv, encoding=\"utf-8\", low_memory=False)"
   ]
  },
  {
   "cell_type": "code",
   "execution_count": null,
   "metadata": {},
   "outputs": [],
   "source": [
    "# pull only desired columns from df\n",
    "data13 = data13[['STATE','COUNTY','FACLNAME','CONFPOP','ADULTM','ADULTF',\n",
    "                   'JUVM','JUVF','WHITE','BLACK',\n",
    "                   'HISP','AIAN','ASIAN','NHOPI','TWORACE','OTHERRACE']]"
   ]
  },
  {
   "cell_type": "code",
   "execution_count": null,
   "metadata": {},
   "outputs": [],
   "source": [
    "# add year column to df\n",
    "data13['YEAR'] = '2013'"
   ]
  },
  {
   "cell_type": "code",
   "execution_count": null,
   "metadata": {},
   "outputs": [],
   "source": [
    "# rename columns for consistency\n",
    "data13 = data13.rename(columns = {'STATE' : 'state', 'COUNTY':'county', 'FACLNAME' : 'facility_name', 'CONFPOP' : 'confined_population', \n",
    "                         'ADULTM' : 'adult_male', 'ADULTF' : 'adult_female', 'JUVM' : 'juvenile_male',\n",
    "                         'JUVF' : 'juvenile_female', 'WHITE' : 'white_population', 'BLACK' : 'black_population', \n",
    "                         'HISP' : 'hispanic_population', 'AIAN' : 'native_american_population', 'ASIAN' : 'asian_population',\n",
    "                         'NHOPI' : 'native_hawaiian_pacific_islander_population',\n",
    "                         'TWORACE': 'two_or_more_race_population', 'OTHERRACE' : 'other_population', 'YEAR' : 'year'\n",
    "}) \n",
    "data13.head()"
   ]
  },
  {
   "cell_type": "markdown",
   "metadata": {},
   "source": [
    "## 2014"
   ]
  },
  {
   "cell_type": "code",
   "execution_count": null,
   "metadata": {},
   "outputs": [],
   "source": [
    "# import 214 csv and convert to df\n",
    "data14_csv = \"data/2014.csv\"\n",
    "data14 = pd.read_csv(data14_csv, encoding=\"utf-8\", low_memory=False)"
   ]
  },
  {
   "cell_type": "code",
   "execution_count": null,
   "metadata": {},
   "outputs": [],
   "source": [
    "# pull only desired columns from df\n",
    "data14 = data14[['STATE','COUNTY','FACILITY','CONFPOP','ADULTM','ADULTF',\n",
    "                   'JUVM','JUVF','WHITE','BLACK',\n",
    "                   'HISP','AIAN','ASIAN','NHOPI','TWORACE','OTHERRACE']]"
   ]
  },
  {
   "cell_type": "code",
   "execution_count": null,
   "metadata": {},
   "outputs": [],
   "source": [
    "# add year column to df\n",
    "data14['YEAR'] = '2014'"
   ]
  },
  {
   "cell_type": "code",
   "execution_count": null,
   "metadata": {},
   "outputs": [],
   "source": [
    "# rename columns for consistency\n",
    "data14 = data14.rename(columns = {'STATE' : 'state', 'COUNTY':'county', 'FACILITY' : 'facility_name', 'CONFPOP' : 'confined_population', \n",
    "                         'ADULTM' : 'adult_male', 'ADULTF' : 'adult_female', 'JUVM' : 'juvenile_male',\n",
    "                         'JUVF' : 'juvenile_female', 'WHITE' : 'white_population', 'BLACK' : 'black_population', \n",
    "                         'HISP' : 'hispanic_population', 'AIAN' : 'native_american_population', 'ASIAN' : 'asian_population',\n",
    "                         'NHOPI' : 'native_hawaiian_pacific_islander_population',\n",
    "                         'TWORACE': 'two_or_more_race_population', 'OTHERRACE' : 'other_population', 'YEAR' : 'year'\n",
    "}) \n",
    "data14.head()"
   ]
  },
  {
   "cell_type": "markdown",
   "metadata": {},
   "source": [
    "## 2015"
   ]
  },
  {
   "cell_type": "code",
   "execution_count": null,
   "metadata": {},
   "outputs": [],
   "source": [
    "# import 2015 csv and convert to df\n",
    "data15_csv = \"data/2015.csv\"\n",
    "data15 = pd.read_csv(data15_csv, encoding=\"utf-8\", low_memory=False)"
   ]
  },
  {
   "cell_type": "code",
   "execution_count": null,
   "metadata": {},
   "outputs": [],
   "source": [
    "# pull only desired columns from df\n",
    "data15 = data15[['STATE','COUNTY','NAME','CONFPOP','ADULTM','ADULTF',\n",
    "                   'JUVM','JUVF','WHITE','BLACK',\n",
    "                   'HISP','AIAN','ASIAN','NHOPI','TWORACE','OTHERRACE','YEAR']]"
   ]
  },
  {
   "cell_type": "code",
   "execution_count": null,
   "metadata": {},
   "outputs": [],
   "source": [
    "# map state abbreviations to state number provided in data\n",
    "data15['STATE'] = data15['STATE'].map(states)"
   ]
  },
  {
   "cell_type": "code",
   "execution_count": null,
   "metadata": {},
   "outputs": [],
   "source": [
    "# rename columns for consistency\n",
    "data15 = data15.rename(columns = {'STATE' : 'state', 'COUNTY':'county', 'NAME' : 'facility_name', 'CONFPOP' : 'confined_population', \n",
    "                         'ADULTM' : 'adult_male', 'ADULTF' : 'adult_female', 'JUVM' : 'juvenile_male',\n",
    "                         'JUVF' : 'juvenile_female', 'WHITE' : 'white_population', 'BLACK' : 'black_population', \n",
    "                         'HISP' : 'hispanic_population', 'AIAN' : 'native_american_population', 'ASIAN' : 'asian_population',\n",
    "                         'NHOPI' : 'native_hawaiian_pacific_islander_population',\n",
    "                         'TWORACE': 'two_or_more_race_population', 'OTHERRACE' : 'other_population', 'YEAR' : 'year'\n",
    "})\n",
    "data15.head()"
   ]
  },
  {
   "cell_type": "markdown",
   "metadata": {},
   "source": [
    "## 2016"
   ]
  },
  {
   "cell_type": "code",
   "execution_count": null,
   "metadata": {},
   "outputs": [],
   "source": [
    "# import 2016 csv and convert to df\n",
    "data16_csv = \"data/2016.csv\"\n",
    "data16 = pd.read_csv(data16_csv, encoding=\"utf-8\", low_memory=False)"
   ]
  },
  {
   "cell_type": "code",
   "execution_count": null,
   "metadata": {},
   "outputs": [],
   "source": [
    "# pull only desired columns from df\n",
    "data16 = data16[['STATE','COUNTY','NAME','CONFPOP','ADULTM','ADULTF',\n",
    "                   'JUVM','JUVF','WHITE','BLACK',\n",
    "                   'HISP','AIAN','ASIAN','NHOPI','TWORACE','OTHERRACE','YEAR']]"
   ]
  },
  {
   "cell_type": "code",
   "execution_count": null,
   "metadata": {},
   "outputs": [],
   "source": [
    "# map state abbreviations to state number provided in data\n",
    "data16['STATE'] = data16['STATE'].map(states)"
   ]
  },
  {
   "cell_type": "code",
   "execution_count": null,
   "metadata": {},
   "outputs": [],
   "source": [
    "# rename columns for consistency\n",
    "data16 = data16.rename(columns = {'STATE' : 'state', 'COUNTY':'county', 'NAME' : 'facility_name', 'CONFPOP' : 'confined_population', \n",
    "                         'ADULTM' : 'adult_male', 'ADULTF' : 'adult_female', 'JUVM' : 'juvenile_male',\n",
    "                         'JUVF' : 'juvenile_female', 'WHITE' : 'white_population', 'BLACK' : 'black_population', \n",
    "                         'HISP' : 'hispanic_population', 'AIAN' : 'native_american_population', 'ASIAN' : 'asian_population',\n",
    "                         'NHOPI' : 'native_hawaiian_pacific_islander_population',\n",
    "                         'TWORACE': 'two_or_more_race_population', 'OTHERRACE' : 'other_population', 'YEAR' : 'year'   \n",
    "})\n",
    "data16.head()"
   ]
  },
  {
   "cell_type": "markdown",
   "metadata": {},
   "source": [
    "## 2017"
   ]
  },
  {
   "cell_type": "code",
   "execution_count": null,
   "metadata": {},
   "outputs": [],
   "source": [
    "# import 2017 csv and convert to df\n",
    "data17_csv = \"data/2017.csv\"\n",
    "data17 = pd.read_csv(data17_csv, encoding=\"utf-8\", low_memory=False)"
   ]
  },
  {
   "cell_type": "code",
   "execution_count": null,
   "metadata": {},
   "outputs": [],
   "source": [
    "# pull only desired columns from df\n",
    "data17 = data17[['STATE','COUNTY','NAME','CONFPOP','ADULTM','ADULTF',\n",
    "                   'JUVM','JUVF','WHITE','BLACK',\n",
    "                   'HISP','AIAN','ASIAN','NHOPI','TWORACE','OTHERRACE','YEAR']]"
   ]
  },
  {
   "cell_type": "code",
   "execution_count": null,
   "metadata": {},
   "outputs": [],
   "source": [
    "# map state abbreviations to state number provided in data\n",
    "data17['STATE'] = data17['STATE'].map(states)"
   ]
  },
  {
   "cell_type": "code",
   "execution_count": null,
   "metadata": {},
   "outputs": [],
   "source": [
    "# rename columns for consistency\n",
    "data17 = data17.rename(columns = {'STATE' : 'state', 'COUNTY':'county', 'NAME' : 'facility_name', 'CONFPOP' : 'confined_population', \n",
    "                         'ADULTM' : 'adult_male', 'ADULTF' : 'adult_female', 'JUVM' : 'juvenile_male',\n",
    "                         'JUVF' : 'juvenile_female', 'WHITE' : 'white_population', 'BLACK' : 'black_population', \n",
    "                         'HISP' : 'hispanic_population', 'AIAN' : 'native_american_population', 'ASIAN' : 'asian_population',\n",
    "                         'NHOPI' : 'native_hawaiian_pacific_islander_population',\n",
    "                         'TWORACE': 'two_or_more_race_population', 'OTHERRACE' : 'other_population', 'YEAR' : 'year'\n",
    "})\n",
    "data17.head()"
   ]
  },
  {
   "cell_type": "markdown",
   "metadata": {},
   "source": [
    "## 2018"
   ]
  },
  {
   "cell_type": "code",
   "execution_count": null,
   "metadata": {},
   "outputs": [],
   "source": [
    "# import 2018 csv and convert to df\n",
    "data18_csv = \"data/2018.csv\"\n",
    "data18 = pd.read_csv(data18_csv, encoding=\"utf-8\", low_memory=False)"
   ]
  },
  {
   "cell_type": "code",
   "execution_count": null,
   "metadata": {},
   "outputs": [],
   "source": [
    "# pull only desired columns from df\n",
    "data18 = data18[['STATE','COUNTY','NAME','CONFPOP','ADULTM','ADULTF',\n",
    "                   'JUVM','JUVF','WHITE','BLACK',\n",
    "                   'HISP','AIAN','ASIAN','NHOPI','TWORACE','OTHERRACE','YEAR']]"
   ]
  },
  {
   "cell_type": "code",
   "execution_count": null,
   "metadata": {},
   "outputs": [],
   "source": [
    "# map state abbreviations to state number provided in data\n",
    "data18['STATE'] = data18['STATE'].map(states)"
   ]
  },
  {
   "cell_type": "code",
   "execution_count": null,
   "metadata": {},
   "outputs": [],
   "source": [
    "# rename columns for consistency\n",
    "data18 = data18.rename(columns = {'STATE' : 'state', 'COUNTY':'county', 'NAME' : 'facility_name', 'CONFPOP' : 'confined_population', \n",
    "                         'ADULTM' : 'adult_male', 'ADULTF' : 'adult_female', 'JUVM' : 'juvenile_male',\n",
    "                         'JUVF' : 'juvenile_female', 'WHITE' : 'white_population', 'BLACK' : 'black_population', \n",
    "                         'HISP' : 'hispanic_population', 'AIAN' : 'native_american_population', 'ASIAN' : 'asian_population',\n",
    "                         'NHOPI' : 'native_hawaiian_pacific_islander_population',\n",
    "                         'TWORACE': 'two_or_more_race_population', 'OTHERRACE' : 'other_population', 'YEAR' : 'year'\n",
    "    \n",
    "})\n",
    "data18.head()"
   ]
  },
  {
   "cell_type": "markdown",
   "metadata": {},
   "source": [
    "# Finalize Data & Upload"
   ]
  },
  {
   "cell_type": "code",
   "execution_count": null,
   "metadata": {},
   "outputs": [],
   "source": [
    "# combine all year data into one df\n",
    "## create array of yearly df\n",
    "data_all = [data08,data09,data10,data11,data12,data13,data14,data15,data16,data17,data18]\n",
    "\n",
    "## concat all data in array to one df\n",
    "prison_data_df = pd.concat(data_all)"
   ]
  },
  {
   "cell_type": "code",
   "execution_count": null,
   "metadata": {},
   "outputs": [],
   "source": [
    "# calculate % of confined popualtion for each demographic\n",
    "prison_data_df['key'] = prison_data_df['facility_name'] + ' - ' + prison_data_df['year'].astype(str)\n",
    "prison_data_df['pct_adult_male'] = prison_data_df['adult_male'] / prison_data_df['confined_population']\n",
    "prison_data_df['pct_adult_female'] = prison_data_df['adult_female'] / prison_data_df['confined_population']\n",
    "prison_data_df['pct_juvenile_male'] = prison_data_df['juvenile_male'] / prison_data_df['confined_population']\n",
    "prison_data_df['pct_juvenile_female'] = prison_data_df['juvenile_female'] / prison_data_df['confined_population']\n",
    "prison_data_df['pct_white'] = prison_data_df['white_population'] / prison_data_df['confined_population']\n",
    "prison_data_df['pct_black'] = prison_data_df['black_population'] / prison_data_df['confined_population']\n",
    "prison_data_df['pct_hispanic'] = prison_data_df['hispanic_population'] / prison_data_df['confined_population']\n",
    "prison_data_df['pct_native_american'] = prison_data_df['native_american_population'] / prison_data_df['confined_population']\n",
    "prison_data_df['pct_asian'] = prison_data_df['asian_population'] / prison_data_df['confined_population']\n",
    "prison_data_df['pct_native_hawaiian_pacific_islander'] = prison_data_df['native_hawaiian_pacific_islander_population'] / prison_data_df['confined_population']\n",
    "prison_data_df['pct_two_or_more_races'] = prison_data_df['two_or_more_race_population'] / prison_data_df['confined_population']\n",
    "prison_data_df['pct_other'] = prison_data_df['other_population'] / prison_data_df['confined_population']"
   ]
  },
  {
   "cell_type": "code",
   "execution_count": null,
   "metadata": {},
   "outputs": [],
   "source": [
    "# reorganize column order\n",
    "prison_data_df = prison_data_df[['key', 'year', 'state','county', 'facility_name', 'confined_population', 'adult_male', 'pct_adult_male',\n",
    "                  'adult_female','pct_adult_female','juvenile_male', 'pct_juvenile_male','juvenile_female', 'pct_juvenile_female',\n",
    "                  'white_population', 'pct_white', 'black_population', 'pct_black',\n",
    "                  'hispanic_population', 'pct_hispanic', 'native_american_population', 'pct_native_american', 'asian_population','pct_asian',\n",
    "                  'native_hawaiian_pacific_islander_population','pct_native_hawaiian_pacific_islander', 'two_or_more_race_population',\n",
    "                  'pct_two_or_more_races', 'other_population','pct_other'\n",
    "                 ]]\n",
    "\n",
    "prison_data_df.head()"
   ]
  },
  {
   "cell_type": "code",
   "execution_count": null,
   "metadata": {},
   "outputs": [],
   "source": [
    "# create state df\n",
    "## append all year data into one df\n",
    "state_data_df = pd.concat(data_all)\n",
    "\n",
    "## select columns needed for state df\n",
    "state_data_df = state_data_df[['state','year','confined_population', 'adult_male', 'adult_female',\n",
    "                  'juvenile_male', 'juvenile_female', 'white_population',  'black_population', \n",
    "                  'hispanic_population',  'native_american_population',  'asian_population',\n",
    "                  'native_hawaiian_pacific_islander_population', 'two_or_more_race_population',\n",
    "                  'other_population']]\n",
    "\n",
    "## create key for primary key in database\n",
    "state_data_df['key'] = prison_data_df['state'] + ' - ' + prison_data_df['year'].astype(str)\n",
    "\n",
    "## groupby key,state,and year to create new df\n",
    "state_data_df = state_data_df.groupby(['key','state','year'],as_index=False).agg({'confined_population':'sum','adult_male':'sum',\n",
    "                                                         'adult_female':'sum','juvenile_male':'sum','juvenile_female':'sum',\n",
    "                                                         'white_population':'sum', 'black_population':'sum', 'hispanic_population':'sum',\n",
    "                                                         'native_american_population':'sum', 'asian_population':'sum',\n",
    "                                                         'native_hawaiian_pacific_islander_population':'sum', 'two_or_more_race_population':'sum',\n",
    "                                                         'other_population':'sum'})"
   ]
  },
  {
   "cell_type": "code",
   "execution_count": null,
   "metadata": {},
   "outputs": [],
   "source": [
    "# calculate % of total confined popualtion for each demographic\n",
    "state_data_df['pct_adult_male'] = state_data_df['adult_male'] / state_data_df['confined_population']\n",
    "state_data_df['pct_adult_female'] = state_data_df['adult_female'] / state_data_df['confined_population']\n",
    "state_data_df['pct_juvenile_male'] = state_data_df['juvenile_male'] / state_data_df['confined_population']\n",
    "state_data_df['pct_juvenile_female'] = state_data_df['juvenile_female'] / state_data_df['confined_population']\n",
    "state_data_df['pct_white'] = state_data_df['white_population'] / state_data_df['confined_population']\n",
    "state_data_df['pct_black'] = state_data_df['black_population'] / state_data_df['confined_population']\n",
    "state_data_df['pct_hispanic'] = state_data_df['hispanic_population'] / state_data_df['confined_population']\n",
    "state_data_df['pct_native_american'] = state_data_df['native_american_population'] / state_data_df['confined_population']\n",
    "state_data_df['pct_asian'] = state_data_df['asian_population'] / state_data_df['confined_population']\n",
    "state_data_df['pct_native_hawaiian_pacific_islander'] = state_data_df['native_hawaiian_pacific_islander_population'] / state_data_df['confined_population']\n",
    "state_data_df['pct_two_or_more_races'] = state_data_df['two_or_more_race_population'] / state_data_df['confined_population']\n",
    "state_data_df['pct_other'] = state_data_df['other_population'] / state_data_df['confined_population']"
   ]
  },
  {
   "cell_type": "code",
   "execution_count": null,
   "metadata": {},
   "outputs": [],
   "source": [
    "# show df\n",
    "state_data_df.head()"
   ]
  },
  {
   "cell_type": "code",
   "execution_count": null,
   "metadata": {},
   "outputs": [],
   "source": [
    "2008_state_df = state_data_df.loc[state_data_df]"
   ]
  }
 ],
 "metadata": {
  "kernelspec": {
   "display_name": "Python 3",
   "language": "python",
   "name": "python3"
  },
  "language_info": {
   "codemirror_mode": {
    "name": "ipython",
    "version": 3
   },
   "file_extension": ".py",
   "mimetype": "text/x-python",
   "name": "python",
   "nbconvert_exporter": "python",
   "pygments_lexer": "ipython3",
   "version": "3.6.10"
  }
 },
 "nbformat": 4,
 "nbformat_minor": 4
}
