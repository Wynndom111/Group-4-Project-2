{
 "cells": [
  {
   "cell_type": "markdown",
   "metadata": {},
   "source": [
    "# Wynn Code Starts Here"
   ]
  },
  {
   "cell_type": "code",
   "execution_count": 1,
   "metadata": {},
   "outputs": [],
   "source": [
    "import pandas as pd"
   ]
  },
  {
   "cell_type": "code",
   "execution_count": null,
   "metadata": {},
   "outputs": [],
   "source": [
    "data08_csv = \"data/2008.csv\""
   ]
  },
  {
   "cell_type": "code",
   "execution_count": null,
   "metadata": {},
   "outputs": [],
   "source": [
    "data08_csv"
   ]
  },
  {
   "cell_type": "code",
   "execution_count": null,
   "metadata": {},
   "outputs": [],
   "source": [
    "data08 = pd.read_csv(data08_csv, encoding=\"utf-8\", low_memory=False)"
   ]
  },
  {
   "cell_type": "code",
   "execution_count": null,
   "metadata": {},
   "outputs": [],
   "source": [
    "data08.head()"
   ]
  },
  {
   "cell_type": "code",
   "execution_count": null,
   "metadata": {},
   "outputs": [],
   "source": [
    "#for col in data08.columns: \n",
    "    #print(col)"
   ]
  },
  {
   "cell_type": "code",
   "execution_count": null,
   "metadata": {},
   "outputs": [],
   "source": [
    "data8 = data08[['STATE','COUNTY','FACLNAME','CONFPOP','TOTPOP','ADMALE','ADFEML',\n",
    "                   'JUVMALE','JUVFEML','TOTGEND','CONVMALE','CONVFML','WHITE','BLACK',\n",
    "                   'HISP','AMINDALK','ASIAN','HAWPAC','TWORACE','OTRACE']]"
   ]
  },
  {
   "cell_type": "code",
   "execution_count": null,
   "metadata": {},
   "outputs": [],
   "source": [
    "#data8.head(20)"
   ]
  },
  {
   "cell_type": "code",
   "execution_count": null,
   "metadata": {},
   "outputs": [],
   "source": [
    "data8['YEAR'] = '2008'"
   ]
  },
  {
   "cell_type": "code",
   "execution_count": null,
   "metadata": {},
   "outputs": [],
   "source": [
    "data8.head()"
   ]
  },
  {
   "cell_type": "markdown",
   "metadata": {},
   "source": [
    "# Alex Code Starts Here"
   ]
  },
  {
   "cell_type": "code",
   "execution_count": null,
   "metadata": {},
   "outputs": [],
   "source": []
  },
  {
   "cell_type": "markdown",
   "metadata": {},
   "source": [
    "# Vince Code Starts Here"
   ]
  },
  {
   "cell_type": "code",
   "execution_count": 11,
   "metadata": {},
   "outputs": [],
   "source": [
    "data15_csv = \"data/2015.csv\"\n",
    "data15 = pd.read_csv(data15_csv, encoding=\"utf-8\", low_memory=False)"
   ]
  },
  {
   "cell_type": "code",
   "execution_count": 12,
   "metadata": {},
   "outputs": [],
   "source": [
    "data15 = data15[['STATE','COUNTY','NAME','CONFPOP','ADULTM','ADULTF',\n",
    "                   'JUVM','JUVF','TOTGENDER','WHITE','BLACK',\n",
    "                   'HISP','AIAN','ASIAN','NHOPI','TWORACE','OTHERRACE','YEAR']]"
   ]
  },
  {
   "cell_type": "code",
   "execution_count": 13,
   "metadata": {},
   "outputs": [],
   "source": [
    "data16_csv = \"data/2016.csv\"\n",
    "data16 = pd.read_csv(data16_csv, encoding=\"utf-8\", low_memory=False)"
   ]
  },
  {
   "cell_type": "code",
   "execution_count": 14,
   "metadata": {},
   "outputs": [],
   "source": [
    "data16 = data16[['STATE','COUNTY','NAME','CONFPOP','ADULTM','ADULTF',\n",
    "                   'JUVM','JUVF','TOTGENDER','WHITE','BLACK',\n",
    "                   'HISP','AIAN','ASIAN','NHOPI','TWORACE','OTHERRACE','YEAR']]"
   ]
  },
  {
   "cell_type": "code",
   "execution_count": 15,
   "metadata": {},
   "outputs": [],
   "source": [
    "data17_csv = \"data/2017.csv\"\n",
    "data17 = pd.read_csv(data17_csv, encoding=\"utf-8\", low_memory=False)"
   ]
  },
  {
   "cell_type": "code",
   "execution_count": 16,
   "metadata": {},
   "outputs": [],
   "source": [
    "data17 = data17[['STATE','COUNTY','NAME','CONFPOP','ADULTM','ADULTF',\n",
    "                   'JUVM','JUVF','TOTGENDER','WHITE','BLACK',\n",
    "                   'HISP','AIAN','ASIAN','NHOPI','TWORACE','OTHERRACE','YEAR']]"
   ]
  },
  {
   "cell_type": "code",
   "execution_count": 17,
   "metadata": {},
   "outputs": [],
   "source": [
    "data18_csv = \"data/2018.csv\"\n",
    "data18 = pd.read_csv(data18_csv, encoding=\"utf-8\", low_memory=False)"
   ]
  },
  {
   "cell_type": "code",
   "execution_count": 18,
   "metadata": {},
   "outputs": [],
   "source": [
    "data18 = data18[['STATE','COUNTY','NAME','CONFPOP','ADULTM','ADULTF',\n",
    "                   'JUVM','JUVF','TOTGENDER','WHITE','BLACK',\n",
    "                   'HISP','AIAN','ASIAN','NHOPI','TWORACE','OTHERRACE','YEAR']]"
   ]
  },
  {
   "cell_type": "code",
   "execution_count": null,
   "metadata": {},
   "outputs": [],
   "source": []
  }
 ],
 "metadata": {
  "kernelspec": {
   "display_name": "Python 3",
   "language": "python",
   "name": "python3"
  },
  "language_info": {
   "codemirror_mode": {
    "name": "ipython",
    "version": 3
   },
   "file_extension": ".py",
   "mimetype": "text/x-python",
   "name": "python",
   "nbconvert_exporter": "python",
   "pygments_lexer": "ipython3",
   "version": "3.6.10"
  }
 },
 "nbformat": 4,
 "nbformat_minor": 4
}
