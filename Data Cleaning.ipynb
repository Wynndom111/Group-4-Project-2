{
 "cells": [
  {
   "cell_type": "markdown",
   "metadata": {},
   "source": [
    "# Wynn Code Starts Here"
   ]
  },
  {
   "cell_type": "code",
   "execution_count": null,
   "metadata": {},
   "outputs": [],
   "source": [
    "import pandas as pd"
   ]
  },
  {
   "cell_type": "markdown",
   "metadata": {},
   "source": [
    "# 2008 - data8"
   ]
  },
  {
   "cell_type": "code",
   "execution_count": null,
   "metadata": {},
   "outputs": [],
   "source": [
    "data08_csv = \"data/2008.csv\""
   ]
  },
  {
   "cell_type": "code",
   "execution_count": null,
   "metadata": {},
   "outputs": [],
   "source": [
    "data08 = pd.read_csv(data08_csv, encoding=\"utf-8\", low_memory=False)"
   ]
  },
  {
   "cell_type": "code",
   "execution_count": null,
   "metadata": {},
   "outputs": [],
   "source": [
    "data08.head()"
   ]
  },
  {
   "cell_type": "code",
   "execution_count": null,
   "metadata": {},
   "outputs": [],
   "source": [
    "#for col in data08.columns: \n",
    "    #print(col)"
   ]
  },
  {
   "cell_type": "code",
   "execution_count": null,
   "metadata": {},
   "outputs": [],
   "source": [
    "data8 = data08[['STATE','COUNTY','FACLNAME','CONFPOP','ADMALE','ADFEML',\n",
    "                   'JUVMALE','JUVFEML','WHITE','BLACK',\n",
    "                   'HISP','AMINDALK','ASIAN','HAWPAC','TWORACE','OTRACE']]"
   ]
  },
  {
   "cell_type": "code",
   "execution_count": null,
   "metadata": {},
   "outputs": [],
   "source": [
    "data8.head()"
   ]
  },
  {
   "cell_type": "code",
   "execution_count": null,
   "metadata": {},
   "outputs": [],
   "source": [
    "data8['YEAR'] = '2008'"
   ]
  },
  {
   "cell_type": "code",
   "execution_count": null,
   "metadata": {},
   "outputs": [],
   "source": [
    "data8.head()"
   ]
  },
  {
   "cell_type": "code",
   "execution_count": null,
   "metadata": {},
   "outputs": [],
   "source": [
    "data8 = data8.rename(columns = {'STATE' : 'state', 'COUNTY':'county', 'FACLNAME' : 'facility_name', 'CONFPOP' : 'confined_population', \n",
    "                         'ADMALE' : 'adult_male', 'ADFEML' : 'adult_female', 'JUVMALE' : 'juvenile_male',\n",
    "                         'JUVFEML' : 'juvenile_female', 'WHITE' : 'white_population', 'BLACK' : 'black_population', \n",
    "                         'HISP' : 'hispanic_population', 'AMINDALK' : 'native_american_population', 'ASIAN' : 'asian_population',\n",
    "                         'HAWPAC' : 'native_hawaiian_pacific_islander_population',\n",
    "                         'TWORACE': 'two_or_more_race_population', 'OTRACE' : 'other_population', 'YEAR' : 'year'\n",
    "}) \n",
    "data8.head()"
   ]
  },
  {
   "cell_type": "markdown",
   "metadata": {},
   "source": [
    "# 2009 - data9"
   ]
  },
  {
   "cell_type": "code",
   "execution_count": null,
   "metadata": {},
   "outputs": [],
   "source": [
    "data09_csv = \"data/2009.csv\""
   ]
  },
  {
   "cell_type": "code",
   "execution_count": null,
   "metadata": {},
   "outputs": [],
   "source": [
    "data09 = pd.read_csv(data09_csv, encoding=\"utf-8\", low_memory=False)"
   ]
  },
  {
   "cell_type": "code",
   "execution_count": null,
   "metadata": {},
   "outputs": [],
   "source": [
    "data09.head()"
   ]
  },
  {
   "cell_type": "code",
   "execution_count": null,
   "metadata": {},
   "outputs": [],
   "source": [
    "data9 = data09[['STATE','COUNTY','FACLNAME','CONFPOP','ADMALE','ADFEML',\n",
    "                   'JUVMALE','JUVFEML','WHITE','BLACK',\n",
    "                   'HISP','AMINDALK','ASIAN','HAWPAC','TWORACE','OTRACE']]"
   ]
  },
  {
   "cell_type": "code",
   "execution_count": null,
   "metadata": {},
   "outputs": [],
   "source": [
    "data9.head(5)"
   ]
  },
  {
   "cell_type": "code",
   "execution_count": null,
   "metadata": {},
   "outputs": [],
   "source": [
    "data9['YEAR'] = '2009'"
   ]
  },
  {
   "cell_type": "code",
   "execution_count": null,
   "metadata": {},
   "outputs": [],
   "source": [
    "data9.head(5)"
   ]
  },
  {
   "cell_type": "code",
   "execution_count": null,
   "metadata": {},
   "outputs": [],
   "source": [
    "data9 = data9.rename(columns = {'STATE' : 'state', 'COUNTY':'county', 'FACLNAME' : 'facility_name', 'CONFPOP' : 'confined_population', \n",
    "                         'ADMALE' : 'adult_male', 'ADFEML' : 'adult_female', 'JUVMALE' : 'juvenile_male',\n",
    "                         'JUVFEML' : 'juvenile_female', 'WHITE' : 'white_population', 'BLACK' : 'black_population', \n",
    "                         'HISP' : 'hispanic_population', 'AMINDALK' : 'native_american_population', 'ASIAN' : 'asian_population',\n",
    "                         'HAWPAC' : 'native_hawaiian_pacific_islander_population',\n",
    "                         'TWORACE': 'two_or_more_race_population', 'OTRACE' : 'other_population', 'YEAR' : 'year'\n",
    "}) \n",
    "data9.head()"
   ]
  },
  {
   "cell_type": "markdown",
   "metadata": {},
   "source": [
    "# 2010 - data10"
   ]
  },
  {
   "cell_type": "code",
   "execution_count": null,
   "metadata": {},
   "outputs": [],
   "source": [
    "data10_csv = \"data/2010.csv\""
   ]
  },
  {
   "cell_type": "code",
   "execution_count": null,
   "metadata": {},
   "outputs": [],
   "source": [
    "data10 = pd.read_csv(data10_csv, encoding=\"utf-8\", low_memory=False)"
   ]
  },
  {
   "cell_type": "code",
   "execution_count": null,
   "metadata": {},
   "outputs": [],
   "source": [
    "data10.head()"
   ]
  },
  {
   "cell_type": "code",
   "execution_count": null,
   "metadata": {},
   "outputs": [],
   "source": [
    "data10 = data10[['state','county','faclname','confpop','adultm','adultf',\n",
    "'juvm','juvf','white','black',\n",
    "'hisp','AIAN','asian','nhopi','tworace','otherrace']]"
   ]
  },
  {
   "cell_type": "code",
   "execution_count": null,
   "metadata": {},
   "outputs": [],
   "source": [
    "data10.head(5)"
   ]
  },
  {
   "cell_type": "code",
   "execution_count": null,
   "metadata": {},
   "outputs": [],
   "source": [
    "data10['YEAR'] = '2010'"
   ]
  },
  {
   "cell_type": "code",
   "execution_count": null,
   "metadata": {},
   "outputs": [],
   "source": [
    "data10.head(5)"
   ]
  },
  {
   "cell_type": "code",
   "execution_count": null,
   "metadata": {},
   "outputs": [],
   "source": [
    "data10 = data10.rename(columns = {'faclname' : 'facility_name', 'confpop' : 'confined_population', \n",
    "                         'adultm' : 'adult_male', 'adultf' : 'adult_female', 'juvm' : 'juvenile_male',\n",
    "                         'juvf' : 'juvenile_female', 'white' : 'white_population', 'black' : 'black_population', \n",
    "                         'hisp' : 'hispanic_population', 'AIAN' : 'native_american_population', 'ASIAN' : 'asian_population',\n",
    "                         'NHOPI' : 'native_hawiian_pacific_islander_population',\n",
    "                         'TWORACE': 'two_or_more_race_population', 'OTHERRACE' : 'other_population', 'YEAR' : 'year'\n",
    "}) \n",
    "data10.head()"
   ]
  },
  {
   "cell_type": "markdown",
   "metadata": {},
   "source": [
    "# 2011 - data11"
   ]
  },
  {
   "cell_type": "code",
   "execution_count": null,
   "metadata": {},
   "outputs": [],
   "source": [
    "data11_csv = \"data/2011.csv\""
   ]
  },
  {
   "cell_type": "code",
   "execution_count": null,
   "metadata": {},
   "outputs": [],
   "source": [
    "data11 = pd.read_csv(data11_csv, encoding=\"utf-8\", low_memory=False)"
   ]
  },
  {
   "cell_type": "code",
   "execution_count": null,
   "metadata": {},
   "outputs": [],
   "source": [
    "data11.head()"
   ]
  },
  {
   "cell_type": "code",
   "execution_count": null,
   "metadata": {},
   "outputs": [],
   "source": [
    "data11 = data11[['state','county','faclname','confpop','adultm','adultf',\n",
    "'juvm','juvf','white','black','hisp','AIAN','asian','nhopi','tworace','otherrace']]"
   ]
  },
  {
   "cell_type": "code",
   "execution_count": null,
   "metadata": {},
   "outputs": [],
   "source": [
    "data11.head(5)"
   ]
  },
  {
   "cell_type": "code",
   "execution_count": null,
   "metadata": {},
   "outputs": [],
   "source": [
    "data11['YEAR'] = '2011'"
   ]
  },
  {
   "cell_type": "code",
   "execution_count": null,
   "metadata": {},
   "outputs": [],
   "source": [
    "data11.head(5)"
   ]
  },
  {
   "cell_type": "code",
   "execution_count": null,
   "metadata": {},
   "outputs": [],
   "source": [
    "data11 = data11.rename(columns = {'STATE' : 'state', 'COUNTY':'county', 'NAME' : 'facility_name', 'CONFPOP' : 'confined_population', \n",
    "                         'ADULTM' : 'adult_male', 'ADULTF' : 'adult_female', 'JUVM' : 'juvenile_male',\n",
    "                         'JUVF' : 'juvenile_female', 'WHITE' : 'white_population', 'BLACK' : 'black_population', \n",
    "                         'HISP' : 'hispanic_population', 'AIAN' : 'native_american_population', 'ASIAN' : 'asian_population',\n",
    "                         'NHOPI' : 'native_hawiian_pacific_islander_population',\n",
    "                         'TWORACE': 'two_or_more_race_population', 'OTHERRACE' : 'other_population', 'YEAR' : 'year'\n",
    "}) \n",
    "data11.head()"
   ]
  },
  {
   "cell_type": "markdown",
   "metadata": {},
   "source": [
    "# Alex Code Starts Here"
   ]
  },
  {
   "cell_type": "markdown",
   "metadata": {},
   "source": [
    "# 2012 - data2012 "
   ]
  },
  {
   "cell_type": "code",
   "execution_count": null,
   "metadata": {},
   "outputs": [],
   "source": [
    "data12_csv = \"data/2012.csv\""
   ]
  },
  {
   "cell_type": "code",
   "execution_count": null,
   "metadata": {},
   "outputs": [],
   "source": [
    "data12_csv"
   ]
  },
  {
   "cell_type": "code",
   "execution_count": null,
   "metadata": {},
   "outputs": [],
   "source": [
    "data12 = pd.read_csv(data12_csv, encoding=\"utf-8\", low_memory=False)"
   ]
  },
  {
   "cell_type": "code",
   "execution_count": null,
   "metadata": {},
   "outputs": [],
   "source": [
    "data12.head()"
   ]
  },
  {
   "cell_type": "code",
   "execution_count": null,
   "metadata": {},
   "outputs": [],
   "source": [
    "#for col in data08.columns: \n",
    "    #print(col)"
   ]
  },
  {
   "cell_type": "code",
   "execution_count": null,
   "metadata": {},
   "outputs": [],
   "source": [
    "data2012 = data12[['state','county','faclname','confpop','adultm','adultf','juvm','juvf','totgender','white','black',\n",
    "'hisp','AIAN','asian','nhopi','tworace','otherrace']]"
   ]
  },
  {
   "cell_type": "code",
   "execution_count": null,
   "metadata": {},
   "outputs": [],
   "source": [
    "data2012.head()"
   ]
  },
  {
   "cell_type": "code",
   "execution_count": null,
   "metadata": {},
   "outputs": [],
   "source": [
    "data2012['YEAR'] = '2012'"
   ]
  },
  {
   "cell_type": "code",
   "execution_count": null,
   "metadata": {},
   "outputs": [],
   "source": [
    "data2012.head()"
   ]
  },
  {
   "cell_type": "code",
   "execution_count": null,
   "metadata": {},
   "outputs": [],
   "source": [
    "data12 = data12.rename(columns = {'STATE' : 'state', 'COUNTY':'county', 'NAME' : 'facility_name', 'CONFPOP' : 'confined_population', \n",
    "                         'ADULTM' : 'adult_male', 'ADULTF' : 'adult_female', 'JUVM' : 'juvenile_male',\n",
    "                         'JUVF' : 'juvenile_female', 'WHITE' : 'white_population', 'BLACK' : 'black_population', \n",
    "                         'HISP' : 'hispanic_population', 'AIAN' : 'native_american_population', 'ASIAN' : 'asian_population',\n",
    "                         'NHOPI' : 'native_hawiian_pacific_islander_population',\n",
    "                         'TWORACE': 'two_or_more_race_population', 'OTHERRACE' : 'other_population', 'YEAR' : 'year'\n",
    "}) \n",
    "data12.head()"
   ]
  },
  {
   "cell_type": "markdown",
   "metadata": {},
   "source": [
    "# 2013 - data2013"
   ]
  },
  {
   "cell_type": "code",
   "execution_count": null,
   "metadata": {},
   "outputs": [],
   "source": [
    "data13_csv = \"data/2013.csv\""
   ]
  },
  {
   "cell_type": "code",
   "execution_count": null,
   "metadata": {},
   "outputs": [],
   "source": [
    "data13_csv"
   ]
  },
  {
   "cell_type": "code",
   "execution_count": null,
   "metadata": {},
   "outputs": [],
   "source": [
    "data13 = pd.read_csv(data13_csv, encoding=\"utf-8\", low_memory=False)"
   ]
  },
  {
   "cell_type": "code",
   "execution_count": null,
   "metadata": {},
   "outputs": [],
   "source": [
    "data13.head()"
   ]
  },
  {
   "cell_type": "code",
   "execution_count": null,
   "metadata": {},
   "outputs": [],
   "source": [
    "#for col in data13.columns: \n",
    "    #print(col)"
   ]
  },
  {
   "cell_type": "code",
   "execution_count": null,
   "metadata": {},
   "outputs": [],
   "source": [
    "data2013 = data13[['STATE','COUNTY','FACLNAME','CONFPOP','ADULTM','ADULTF',\n",
    "                   'JUVM','JUVF','TOTGENDER','WHITE','BLACK',\n",
    "                   'HISP','AIAN','ASIAN','NHOPI','TWORACE','OTHERRACE']]"
   ]
  },
  {
   "cell_type": "code",
   "execution_count": null,
   "metadata": {},
   "outputs": [],
   "source": [
    "data2013.head()"
   ]
  },
  {
   "cell_type": "code",
   "execution_count": null,
   "metadata": {},
   "outputs": [],
   "source": [
    "data2013['YEAR'] = '2013'"
   ]
  },
  {
   "cell_type": "code",
   "execution_count": null,
   "metadata": {},
   "outputs": [],
   "source": [
    "data2013.head()"
   ]
  },
  {
   "cell_type": "code",
   "execution_count": null,
   "metadata": {},
   "outputs": [],
   "source": [
    "data13 = data13.rename(columns = {'STATE' : 'state', 'COUNTY':'county', 'NAME' : 'facility_name', 'CONFPOP' : 'confined_population', \n",
    "                         'ADULTM' : 'adult_male', 'ADULTF' : 'adult_female', 'JUVM' : 'juvenile_male',\n",
    "                         'JUVF' : 'juvenile_female', 'WHITE' : 'white_population', 'BLACK' : 'black_population', \n",
    "                         'HISP' : 'hispanic_population', 'AIAN' : 'native_american_population', 'ASIAN' : 'asian_population',\n",
    "                         'NHOPI' : 'native_hawiian_pacific_islander_population',\n",
    "                         'TWORACE': 'two_or_more_race_population', 'OTHERRACE' : 'other_population', 'YEAR' : 'year'\n",
    "}) \n",
    "data13.head()"
   ]
  },
  {
   "cell_type": "markdown",
   "metadata": {},
   "source": [
    "# 2014 - data2014"
   ]
  },
  {
   "cell_type": "code",
   "execution_count": null,
   "metadata": {},
   "outputs": [],
   "source": [
    "data14_csv = \"data/2014.csv\""
   ]
  },
  {
   "cell_type": "code",
   "execution_count": null,
   "metadata": {},
   "outputs": [],
   "source": [
    "data14_csv"
   ]
  },
  {
   "cell_type": "code",
   "execution_count": null,
   "metadata": {},
   "outputs": [],
   "source": [
    "data14 = pd.read_csv(data14_csv, encoding=\"utf-8\", low_memory=False)"
   ]
  },
  {
   "cell_type": "code",
   "execution_count": null,
   "metadata": {},
   "outputs": [],
   "source": [
    "data14.head()"
   ]
  },
  {
   "cell_type": "code",
   "execution_count": null,
   "metadata": {},
   "outputs": [],
   "source": [
    "#for col in data14.columns: \n",
    "    #print(col)"
   ]
  },
  {
   "cell_type": "code",
   "execution_count": null,
   "metadata": {},
   "outputs": [],
   "source": [
    "data2014 = data14[['STATE','COUNTY','FACLID','CONFPOP','ADULTM','ADULTF',\n",
    "                   'JUVM','JUVF','TOTGENDER','WHITE','BLACK',\n",
    "                   'HISP','AIAN','ASIAN','NHOPI','TWORACE','OTHERRACE']]"
   ]
  },
  {
   "cell_type": "code",
   "execution_count": null,
   "metadata": {},
   "outputs": [],
   "source": [
    "data2014.head()"
   ]
  },
  {
   "cell_type": "code",
   "execution_count": null,
   "metadata": {},
   "outputs": [],
   "source": [
    "data2014['YEAR'] = '2014'"
   ]
  },
  {
   "cell_type": "code",
   "execution_count": null,
   "metadata": {},
   "outputs": [],
   "source": [
    "data2014.head()"
   ]
  },
  {
   "cell_type": "code",
   "execution_count": null,
   "metadata": {},
   "outputs": [],
   "source": [
    "data14 = data14.rename(columns = {'STATE' : 'state', 'COUNTY':'county', 'NAME' : 'facility_name', 'CONFPOP' : 'confined_population', \n",
    "                         'ADULTM' : 'adult_male', 'ADULTF' : 'adult_female', 'JUVM' : 'juvenile_male',\n",
    "                         'JUVF' : 'juvenile_female', 'WHITE' : 'white_population', 'BLACK' : 'black_population', \n",
    "                         'HISP' : 'hispanic_population', 'AIAN' : 'native_american_population', 'ASIAN' : 'asian_population',\n",
    "                         'NHOPI' : 'native_hawiian_pacific_islander_population',\n",
    "                         'TWORACE': 'two_or_more_race_population', 'OTHERRACE' : 'other_population', 'YEAR' : 'year'\n",
    "}) \n",
    "data14.head()"
   ]
  },
  {
   "cell_type": "markdown",
   "metadata": {},
   "source": [
    "# Vince Code Starts Here"
   ]
  },
  {
   "cell_type": "code",
   "execution_count": null,
   "metadata": {},
   "outputs": [],
   "source": [
    "data15_csv = \"data/2015.csv\"\n",
    "data15 = pd.read_csv(data15_csv, encoding=\"utf-8\", low_memory=False)"
   ]
  },
  {
   "cell_type": "code",
   "execution_count": null,
   "metadata": {},
   "outputs": [],
   "source": [
    "data15 = data15[['STATE','COUNTY','NAME','CONFPOP','ADULTM','ADULTF',\n",
    "                   'JUVM','JUVF','WHITE','BLACK',\n",
    "                   'HISP','AIAN','ASIAN','NHOPI','TWORACE','OTHERRACE','YEAR']]"
   ]
  },
  {
   "cell_type": "code",
   "execution_count": null,
   "metadata": {},
   "outputs": [],
   "source": [
    "data15 = data15.rename(columns = {'STATE' : 'state', 'COUNTY':'county', 'NAME' : 'facility_name', 'CONFPOP' : 'confined_population', \n",
    "                         'ADULTM' : 'adult_male', 'ADULTF' : 'adult_female', 'JUVM' : 'juvenile_male',\n",
    "                         'JUVF' : 'juvenile_female', 'WHITE' : 'white_population', 'BLACK' : 'black_population', \n",
    "                         'HISP' : 'hispanic_population', 'AIAN' : 'native_american_population', 'ASIAN' : 'asian_population',\n",
    "                         'NHOPI' : 'native_hawiian_pacific_islander_population',\n",
    "                         'TWORACE': 'two_or_more_race_population', 'OTHERRACE' : 'other_population', 'YEAR' : 'year'\n",
    "    \n",
    "}) \n",
    "\n",
    "data15.head()"
   ]
  },
  {
   "cell_type": "code",
   "execution_count": null,
   "metadata": {},
   "outputs": [],
   "source": [
    "data16_csv = \"data/2016.csv\"\n",
    "data16 = pd.read_csv(data16_csv, encoding=\"utf-8\", low_memory=False)"
   ]
  },
  {
   "cell_type": "code",
   "execution_count": null,
   "metadata": {},
   "outputs": [],
   "source": [
    "data16 = data16[['STATE','COUNTY','NAME','CONFPOP','ADULTM','ADULTF',\n",
    "                   'JUVM','JUVF','WHITE','BLACK',\n",
    "                   'HISP','AIAN','ASIAN','NHOPI','TWORACE','OTHERRACE','YEAR']]"
   ]
  },
  {
   "cell_type": "code",
   "execution_count": null,
   "metadata": {},
   "outputs": [],
   "source": [
    "data16 = data16.rename(columns = {'STATE' : 'state', 'COUNTY':'county', 'NAME' : 'facility_name', 'CONFPOP' : 'confined_population', \n",
    "                         'ADULTM' : 'adult_male', 'ADULTF' : 'adult_female', 'JUVM' : 'juvenile_male',\n",
    "                         'JUVF' : 'juvenile_female', 'WHITE' : 'white_population', 'BLACK' : 'black_population', \n",
    "                         'HISP' : 'hispanic_population', 'AIAN' : 'native_american_population', 'ASIAN' : 'asian_population',\n",
    "                         'NHOPI' : 'native_hawiian_pacific_islander_population',\n",
    "                         'TWORACE': 'two_or_more_race_population', 'OTHERRACE' : 'other_population', 'YEAR' : 'year'\n",
    "    \n",
    "}) \n",
    "\n",
    "data16.head()"
   ]
  },
  {
   "cell_type": "code",
   "execution_count": null,
   "metadata": {},
   "outputs": [],
   "source": [
    "data17_csv = \"data/2017.csv\"\n",
    "data17 = pd.read_csv(data17_csv, encoding=\"utf-8\", low_memory=False)"
   ]
  },
  {
   "cell_type": "code",
   "execution_count": null,
   "metadata": {},
   "outputs": [],
   "source": [
    "data17 = data17[['STATE','COUNTY','NAME','CONFPOP','ADULTM','ADULTF',\n",
    "                   'JUVM','JUVF','WHITE','BLACK',\n",
    "                   'HISP','AIAN','ASIAN','NHOPI','TWORACE','OTHERRACE','YEAR']]"
   ]
  },
  {
   "cell_type": "code",
   "execution_count": null,
   "metadata": {},
   "outputs": [],
   "source": [
    "data17 = data17.rename(columns = {'STATE' : 'state', 'COUNTY':'county', 'NAME' : 'facility_name', 'CONFPOP' : 'confined_population', \n",
    "                         'ADULTM' : 'adult_male', 'ADULTF' : 'adult_female', 'JUVM' : 'juvenile_male',\n",
    "                         'JUVF' : 'juvenile_female', 'WHITE' : 'white_population', 'BLACK' : 'black_population', \n",
    "                         'HISP' : 'hispanic_population', 'AIAN' : 'native_american_population', 'ASIAN' : 'asian_population',\n",
    "                         'NHOPI' : 'native_hawiian_pacific_islander_population',\n",
    "                         'TWORACE': 'two_or_more_race_population', 'OTHERRACE' : 'other_population', 'YEAR' : 'year'\n",
    "    \n",
    "}) \n",
    "\n",
    "data17.head()"
   ]
  },
  {
   "cell_type": "code",
   "execution_count": null,
   "metadata": {},
   "outputs": [],
   "source": [
    "data18_csv = \"data/2018.csv\"\n",
    "data18 = pd.read_csv(data18_csv, encoding=\"utf-8\", low_memory=False)"
   ]
  },
  {
   "cell_type": "code",
   "execution_count": null,
   "metadata": {},
   "outputs": [],
   "source": [
    "data18 = data18[['STATE','COUNTY','NAME','CONFPOP','ADULTM','ADULTF',\n",
    "                   'JUVM','JUVF','TOTGENDER','WHITE','BLACK',\n",
    "                   'HISP','AIAN','ASIAN','NHOPI','TWORACE','OTHERRACE','YEAR']]"
   ]
  },
  {
   "cell_type": "code",
   "execution_count": null,
   "metadata": {},
   "outputs": [],
   "source": [
    "data18 = data18.rename(columns = {'STATE' : 'state', 'COUNTY':'county', 'NAME' : 'facility_name', 'CONFPOP' : 'confined_population', \n",
    "                         'ADULTM' : 'adult_male', 'ADULTF' : 'adult_female', 'JUVM' : 'juvenile_male',\n",
    "                         'JUVF' : 'juvenile_female', 'WHITE' : 'white_population', 'BLACK' : 'black_population', \n",
    "                         'HISP' : 'hispanic_population', 'AIAN' : 'native_american_population', 'ASIAN' : 'asian_population',\n",
    "                         'NHOPI' : 'native_hawiian_pacific_islander_population',\n",
    "                         'TWORACE': 'two_or_more_race_population', 'OTHERRACE' : 'other_population', 'YEAR' : 'year'\n",
    "    \n",
    "}) \n",
    "\n",
    "data18.head()"
   ]
  },
  {
   "cell_type": "code",
   "execution_count": null,
   "metadata": {},
   "outputs": [],
   "source": []
  }
 ],
 "metadata": {
  "kernelspec": {
   "display_name": "Python 3",
   "language": "python",
   "name": "python3"
  },
  "language_info": {
   "codemirror_mode": {
    "name": "ipython",
    "version": 3
   },
   "file_extension": ".py",
   "mimetype": "text/x-python",
   "name": "python",
   "nbconvert_exporter": "python",
   "pygments_lexer": "ipython3",
   "version": "3.6.10"
  }
 },
 "nbformat": 4,
 "nbformat_minor": 4
}
